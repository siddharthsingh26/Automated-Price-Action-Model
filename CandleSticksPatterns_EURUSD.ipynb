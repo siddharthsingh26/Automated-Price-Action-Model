{
 "cells": [
  {
   "cell_type": "markdown",
   "metadata": {},
   "source": [
    "# Candlesticks Combined patterns analysis"
   ]
  },
  {
   "cell_type": "code",
   "execution_count": 91,
   "metadata": {
    "scrolled": false
   },
   "outputs": [
    {
     "data": {
      "text/html": [
       "<div>\n",
       "<style scoped>\n",
       "    .dataframe tbody tr th:only-of-type {\n",
       "        vertical-align: middle;\n",
       "    }\n",
       "\n",
       "    .dataframe tbody tr th {\n",
       "        vertical-align: top;\n",
       "    }\n",
       "\n",
       "    .dataframe thead th {\n",
       "        text-align: right;\n",
       "    }\n",
       "</style>\n",
       "<table border=\"1\" class=\"dataframe\">\n",
       "  <thead>\n",
       "    <tr style=\"text-align: right;\">\n",
       "      <th></th>\n",
       "      <th>Date</th>\n",
       "      <th>Open</th>\n",
       "      <th>High</th>\n",
       "      <th>Low</th>\n",
       "      <th>Close</th>\n",
       "      <th>Adj Close</th>\n",
       "      <th>Volume</th>\n",
       "    </tr>\n",
       "  </thead>\n",
       "  <tbody>\n",
       "    <tr>\n",
       "      <th>2770</th>\n",
       "      <td>2023-01-05</td>\n",
       "      <td>127.129997</td>\n",
       "      <td>127.769997</td>\n",
       "      <td>124.760002</td>\n",
       "      <td>125.019997</td>\n",
       "      <td>125.019997</td>\n",
       "      <td>80962700</td>\n",
       "    </tr>\n",
       "    <tr>\n",
       "      <th>2771</th>\n",
       "      <td>2023-01-06</td>\n",
       "      <td>126.010002</td>\n",
       "      <td>130.289993</td>\n",
       "      <td>124.889999</td>\n",
       "      <td>129.619995</td>\n",
       "      <td>129.619995</td>\n",
       "      <td>87686600</td>\n",
       "    </tr>\n",
       "    <tr>\n",
       "      <th>2772</th>\n",
       "      <td>2023-01-09</td>\n",
       "      <td>130.470001</td>\n",
       "      <td>133.410004</td>\n",
       "      <td>129.889999</td>\n",
       "      <td>130.149994</td>\n",
       "      <td>130.149994</td>\n",
       "      <td>70790800</td>\n",
       "    </tr>\n",
       "    <tr>\n",
       "      <th>2773</th>\n",
       "      <td>2023-01-10</td>\n",
       "      <td>130.259995</td>\n",
       "      <td>131.259995</td>\n",
       "      <td>128.119995</td>\n",
       "      <td>130.729996</td>\n",
       "      <td>130.729996</td>\n",
       "      <td>63896200</td>\n",
       "    </tr>\n",
       "    <tr>\n",
       "      <th>2774</th>\n",
       "      <td>2023-01-11</td>\n",
       "      <td>131.250000</td>\n",
       "      <td>133.509995</td>\n",
       "      <td>130.460007</td>\n",
       "      <td>133.490005</td>\n",
       "      <td>133.490005</td>\n",
       "      <td>69359700</td>\n",
       "    </tr>\n",
       "  </tbody>\n",
       "</table>\n",
       "</div>"
      ],
      "text/plain": [
       "            Date        Open        High         Low       Close   Adj Close  \\\n",
       "2770  2023-01-05  127.129997  127.769997  124.760002  125.019997  125.019997   \n",
       "2771  2023-01-06  126.010002  130.289993  124.889999  129.619995  129.619995   \n",
       "2772  2023-01-09  130.470001  133.410004  129.889999  130.149994  130.149994   \n",
       "2773  2023-01-10  130.259995  131.259995  128.119995  130.729996  130.729996   \n",
       "2774  2023-01-11  131.250000  133.509995  130.460007  133.490005  133.490005   \n",
       "\n",
       "        Volume  \n",
       "2770  80962700  \n",
       "2771  87686600  \n",
       "2772  70790800  \n",
       "2773  63896200  \n",
       "2774  69359700  "
      ]
     },
     "execution_count": 91,
     "metadata": {},
     "output_type": "execute_result"
    }
   ],
   "source": [
    "import pandas as pd\n",
    "df = pd.read_csv(r\"C:\\Users\\Sid\\Desktop\\vit\\DataScience Projects\\Dataset\\AAPL.csv\")\n",
    "df.tail()\n"
   ]
  },
  {
   "cell_type": "code",
   "execution_count": 92,
   "metadata": {},
   "outputs": [
    {
     "data": {
      "text/plain": [
       "(2775, 7)"
      ]
     },
     "execution_count": 92,
     "metadata": {},
     "output_type": "execute_result"
    }
   ],
   "source": [
    "df.shape\n"
   ]
  },
  {
   "cell_type": "code",
   "execution_count": 81,
   "metadata": {},
   "outputs": [
    {
     "data": {
      "text/html": [
       "<div>\n",
       "<style scoped>\n",
       "    .dataframe tbody tr th:only-of-type {\n",
       "        vertical-align: middle;\n",
       "    }\n",
       "\n",
       "    .dataframe tbody tr th {\n",
       "        vertical-align: top;\n",
       "    }\n",
       "\n",
       "    .dataframe thead th {\n",
       "        text-align: right;\n",
       "    }\n",
       "</style>\n",
       "<table border=\"1\" class=\"dataframe\">\n",
       "  <thead>\n",
       "    <tr style=\"text-align: right;\">\n",
       "      <th></th>\n",
       "      <th>Date</th>\n",
       "      <th>Open</th>\n",
       "      <th>High</th>\n",
       "      <th>Low</th>\n",
       "      <th>Close</th>\n",
       "      <th>Adj Close</th>\n",
       "      <th>Volume</th>\n",
       "    </tr>\n",
       "  </thead>\n",
       "  <tbody>\n",
       "    <tr>\n",
       "      <th>0</th>\n",
       "      <td>2012-01-03</td>\n",
       "      <td>14.621429</td>\n",
       "      <td>14.732143</td>\n",
       "      <td>14.607143</td>\n",
       "      <td>14.686786</td>\n",
       "      <td>12.519278</td>\n",
       "      <td>302220800</td>\n",
       "    </tr>\n",
       "    <tr>\n",
       "      <th>1</th>\n",
       "      <td>2012-01-04</td>\n",
       "      <td>14.642857</td>\n",
       "      <td>14.810000</td>\n",
       "      <td>14.617143</td>\n",
       "      <td>14.765714</td>\n",
       "      <td>12.586558</td>\n",
       "      <td>260022000</td>\n",
       "    </tr>\n",
       "    <tr>\n",
       "      <th>2</th>\n",
       "      <td>2012-01-05</td>\n",
       "      <td>14.819643</td>\n",
       "      <td>14.948214</td>\n",
       "      <td>14.738214</td>\n",
       "      <td>14.929643</td>\n",
       "      <td>12.726296</td>\n",
       "      <td>271269600</td>\n",
       "    </tr>\n",
       "    <tr>\n",
       "      <th>3</th>\n",
       "      <td>2012-01-06</td>\n",
       "      <td>14.991786</td>\n",
       "      <td>15.098214</td>\n",
       "      <td>14.972143</td>\n",
       "      <td>15.085714</td>\n",
       "      <td>12.859330</td>\n",
       "      <td>318292800</td>\n",
       "    </tr>\n",
       "    <tr>\n",
       "      <th>4</th>\n",
       "      <td>2012-01-09</td>\n",
       "      <td>15.196429</td>\n",
       "      <td>15.276786</td>\n",
       "      <td>15.048214</td>\n",
       "      <td>15.061786</td>\n",
       "      <td>12.838933</td>\n",
       "      <td>394024400</td>\n",
       "    </tr>\n",
       "  </tbody>\n",
       "</table>\n",
       "</div>"
      ],
      "text/plain": [
       "         Date       Open       High        Low      Close  Adj Close  \\\n",
       "0  2012-01-03  14.621429  14.732143  14.607143  14.686786  12.519278   \n",
       "1  2012-01-04  14.642857  14.810000  14.617143  14.765714  12.586558   \n",
       "2  2012-01-05  14.819643  14.948214  14.738214  14.929643  12.726296   \n",
       "3  2012-01-06  14.991786  15.098214  14.972143  15.085714  12.859330   \n",
       "4  2012-01-09  15.196429  15.276786  15.048214  15.061786  12.838933   \n",
       "\n",
       "      Volume  \n",
       "0  302220800  \n",
       "1  260022000  \n",
       "2  271269600  \n",
       "3  318292800  \n",
       "4  394024400  "
      ]
     },
     "execution_count": 81,
     "metadata": {},
     "output_type": "execute_result"
    }
   ],
   "source": [
    "df.head()"
   ]
  },
  {
   "cell_type": "code",
   "execution_count": 93,
   "metadata": {},
   "outputs": [
    {
     "data": {
      "text/html": [
       "<div>\n",
       "<style scoped>\n",
       "    .dataframe tbody tr th:only-of-type {\n",
       "        vertical-align: middle;\n",
       "    }\n",
       "\n",
       "    .dataframe tbody tr th {\n",
       "        vertical-align: top;\n",
       "    }\n",
       "\n",
       "    .dataframe thead th {\n",
       "        text-align: right;\n",
       "    }\n",
       "</style>\n",
       "<table border=\"1\" class=\"dataframe\">\n",
       "  <thead>\n",
       "    <tr style=\"text-align: right;\">\n",
       "      <th></th>\n",
       "      <th>Date</th>\n",
       "      <th>Open</th>\n",
       "      <th>High</th>\n",
       "      <th>Low</th>\n",
       "      <th>Close</th>\n",
       "      <th>Adj Close</th>\n",
       "      <th>Volume</th>\n",
       "      <th>RSI</th>\n",
       "    </tr>\n",
       "  </thead>\n",
       "  <tbody>\n",
       "    <tr>\n",
       "      <th>2770</th>\n",
       "      <td>2023-01-05</td>\n",
       "      <td>127.129997</td>\n",
       "      <td>127.769997</td>\n",
       "      <td>124.760002</td>\n",
       "      <td>125.019997</td>\n",
       "      <td>125.019997</td>\n",
       "      <td>80962700</td>\n",
       "      <td>33.467992</td>\n",
       "    </tr>\n",
       "    <tr>\n",
       "      <th>2771</th>\n",
       "      <td>2023-01-06</td>\n",
       "      <td>126.010002</td>\n",
       "      <td>130.289993</td>\n",
       "      <td>124.889999</td>\n",
       "      <td>129.619995</td>\n",
       "      <td>129.619995</td>\n",
       "      <td>87686600</td>\n",
       "      <td>42.118917</td>\n",
       "    </tr>\n",
       "    <tr>\n",
       "      <th>2772</th>\n",
       "      <td>2023-01-09</td>\n",
       "      <td>130.470001</td>\n",
       "      <td>133.410004</td>\n",
       "      <td>129.889999</td>\n",
       "      <td>130.149994</td>\n",
       "      <td>130.149994</td>\n",
       "      <td>70790800</td>\n",
       "      <td>43.037926</td>\n",
       "    </tr>\n",
       "    <tr>\n",
       "      <th>2773</th>\n",
       "      <td>2023-01-10</td>\n",
       "      <td>130.259995</td>\n",
       "      <td>131.259995</td>\n",
       "      <td>128.119995</td>\n",
       "      <td>130.729996</td>\n",
       "      <td>130.729996</td>\n",
       "      <td>63896200</td>\n",
       "      <td>44.084227</td>\n",
       "    </tr>\n",
       "    <tr>\n",
       "      <th>2774</th>\n",
       "      <td>2023-01-11</td>\n",
       "      <td>131.250000</td>\n",
       "      <td>133.509995</td>\n",
       "      <td>130.460007</td>\n",
       "      <td>133.490005</td>\n",
       "      <td>133.490005</td>\n",
       "      <td>69359700</td>\n",
       "      <td>48.894849</td>\n",
       "    </tr>\n",
       "  </tbody>\n",
       "</table>\n",
       "</div>"
      ],
      "text/plain": [
       "            Date        Open        High         Low       Close   Adj Close  \\\n",
       "2770  2023-01-05  127.129997  127.769997  124.760002  125.019997  125.019997   \n",
       "2771  2023-01-06  126.010002  130.289993  124.889999  129.619995  129.619995   \n",
       "2772  2023-01-09  130.470001  133.410004  129.889999  130.149994  130.149994   \n",
       "2773  2023-01-10  130.259995  131.259995  128.119995  130.729996  130.729996   \n",
       "2774  2023-01-11  131.250000  133.509995  130.460007  133.490005  133.490005   \n",
       "\n",
       "        Volume        RSI  \n",
       "2770  80962700  33.467992  \n",
       "2771  87686600  42.118917  \n",
       "2772  70790800  43.037926  \n",
       "2773  63896200  44.084227  \n",
       "2774  69359700  48.894849  "
      ]
     },
     "execution_count": 93,
     "metadata": {},
     "output_type": "execute_result"
    }
   ],
   "source": [
    "#Check if NA values are in data\n",
    "df.isna().sum()\n",
    "df= df[df['Volume'] != 0]\n",
    "df.reset_index(drop=True, inplace=True)\n",
    "\n",
    "import pandas_ta as ta\n",
    "#df.ta.indicators()\n",
    "#help(ta.atr)\n",
    "#df['ATR'] = df.ta.atr(length=10)\n",
    "df['RSI'] = df.ta.rsi()\n",
    "df.tail()"
   ]
  },
  {
   "cell_type": "code",
   "execution_count": 94,
   "metadata": {},
   "outputs": [],
   "source": [
    "length = len(df)\n",
    "high = list(df['High'])\n",
    "low = list(df['Low'])\n",
    "close = list(df['Close'])\n",
    "open = list(df['Open'])\n",
    "bodydiff = [0] * length\n",
    "\n",
    "highdiff = [0] * length\n",
    "lowdiff = [0] * length\n",
    "ratio1 = [0] * length\n",
    "ratio2 = [0] * length\n",
    "\n",
    "def isEngulfing(l):\n",
    "    row=l\n",
    "    bodydiff[row] = abs(open[row]-close[row])\n",
    "    if bodydiff[row]<0.000001:\n",
    "        bodydiff[row]=0.000001      \n",
    "\n",
    "    bodydiffmin = 0.002\n",
    "    if (bodydiff[row]>bodydiffmin and bodydiff[row-1]>bodydiffmin and\n",
    "        open[row-1]<close[row-1] and\n",
    "        open[row]>close[row] and \n",
    "        (open[row]-close[row-1])>=-0e-5 and close[row]<open[row-1]): #+0e-5 -5e-5\n",
    "        return 1\n",
    "\n",
    "    elif(bodydiff[row]>bodydiffmin and bodydiff[row-1]>bodydiffmin and\n",
    "        open[row-1]>close[row-1] and\n",
    "        open[row]<close[row] and \n",
    "        (open[row]-close[row-1])<=+0e-5 and close[row]>open[row-1]):#-0e-5 +5e-5\n",
    "        return 2\n",
    "    else:\n",
    "        return 0\n",
    "    \n",
    "    \n",
    "def isEngulfingStrong(l):\n",
    "    row=l\n",
    "    bodydiff[row] = abs(open[row]-close[row])\n",
    "    if bodydiff[row]<0.000001:\n",
    "        bodydiff[row]=0.000001      \n",
    "\n",
    "    bodydiffmin = 0.002\n",
    "    if (bodydiff[row]>bodydiffmin and bodydiff[row-1]>bodydiffmin and\n",
    "        open[row-1]<close[row-1] and\n",
    "        open[row]>close[row] and \n",
    "        (open[row]-close[row-1])>=-0e-5 and close[row]<low[row-1]): #+0e-5 -5e-5\n",
    "        return 1\n",
    "\n",
    "    elif(bodydiff[row]>bodydiffmin and bodydiff[row-1]>bodydiffmin and\n",
    "        open[row-1]>close[row-1] and\n",
    "        open[row]<close[row] and \n",
    "        (open[row]-close[row-1])<=+0e-5 and close[row]>high[row-1]):#-0e-5 +5e-5\n",
    "        return 2\n",
    "    else:\n",
    "        return 0\n",
    "    \n",
    "def isStar(l):\n",
    "    bodydiffmin = 0.0020\n",
    "    row=l\n",
    "    highdiff[row] = high[row]-max(open[row],close[row])\n",
    "    lowdiff[row] = min(open[row],close[row])-low[row]\n",
    "    bodydiff[row] = abs(open[row]-close[row])\n",
    "    if bodydiff[row]<0.000001:\n",
    "        bodydiff[row]=0.000001\n",
    "    ratio1[row] = highdiff[row]/bodydiff[row]\n",
    "    ratio2[row] = lowdiff[row]/bodydiff[row]\n",
    "\n",
    "    if (ratio1[row]>1 and lowdiff[row]<0.2*highdiff[row] and bodydiff[row]>bodydiffmin):# and open[row]>close[row]):\n",
    "        return 1\n",
    "    elif (ratio2[row]>1 and highdiff[row]<0.2*lowdiff[row] and bodydiff[row]>bodydiffmin):# and open[row]<close[row]):\n",
    "        return 2\n",
    "    else:\n",
    "        return 0\n",
    "\n",
    "def direction(l):\n",
    "    if (open[l]>close[l]):\n",
    "        return 1\n",
    "    elif (open[l]<close[l]):\n",
    "        return 2\n",
    "    else:\n",
    "        return 0\n",
    "    "
   ]
  },
  {
   "cell_type": "markdown",
   "metadata": {},
   "source": [
    "# Identifying the candle signal"
   ]
  },
  {
   "cell_type": "code",
   "execution_count": 105,
   "metadata": {},
   "outputs": [
    {
     "data": {
      "text/html": [
       "<div>\n",
       "<style scoped>\n",
       "    .dataframe tbody tr th:only-of-type {\n",
       "        vertical-align: middle;\n",
       "    }\n",
       "\n",
       "    .dataframe tbody tr th {\n",
       "        vertical-align: top;\n",
       "    }\n",
       "\n",
       "    .dataframe thead th {\n",
       "        text-align: right;\n",
       "    }\n",
       "</style>\n",
       "<table border=\"1\" class=\"dataframe\">\n",
       "  <thead>\n",
       "    <tr style=\"text-align: right;\">\n",
       "      <th></th>\n",
       "      <th>Date</th>\n",
       "      <th>Open</th>\n",
       "      <th>High</th>\n",
       "      <th>Low</th>\n",
       "      <th>Close</th>\n",
       "      <th>Adj Close</th>\n",
       "      <th>Volume</th>\n",
       "      <th>RSI</th>\n",
       "      <th>signal</th>\n",
       "      <th>Trend</th>\n",
       "    </tr>\n",
       "  </thead>\n",
       "  <tbody>\n",
       "    <tr>\n",
       "      <th>2770</th>\n",
       "      <td>2023-01-05</td>\n",
       "      <td>127.129997</td>\n",
       "      <td>127.769997</td>\n",
       "      <td>124.760002</td>\n",
       "      <td>125.019997</td>\n",
       "      <td>125.019997</td>\n",
       "      <td>80962700</td>\n",
       "      <td>33.467992</td>\n",
       "      <td>0</td>\n",
       "      <td>NaN</td>\n",
       "    </tr>\n",
       "    <tr>\n",
       "      <th>2771</th>\n",
       "      <td>2023-01-06</td>\n",
       "      <td>126.010002</td>\n",
       "      <td>130.289993</td>\n",
       "      <td>124.889999</td>\n",
       "      <td>129.619995</td>\n",
       "      <td>129.619995</td>\n",
       "      <td>87686600</td>\n",
       "      <td>42.118917</td>\n",
       "      <td>0</td>\n",
       "      <td>NaN</td>\n",
       "    </tr>\n",
       "    <tr>\n",
       "      <th>2772</th>\n",
       "      <td>2023-01-09</td>\n",
       "      <td>130.470001</td>\n",
       "      <td>133.410004</td>\n",
       "      <td>129.889999</td>\n",
       "      <td>130.149994</td>\n",
       "      <td>130.149994</td>\n",
       "      <td>70790800</td>\n",
       "      <td>43.037926</td>\n",
       "      <td>0</td>\n",
       "      <td>NaN</td>\n",
       "    </tr>\n",
       "    <tr>\n",
       "      <th>2773</th>\n",
       "      <td>2023-01-10</td>\n",
       "      <td>130.259995</td>\n",
       "      <td>131.259995</td>\n",
       "      <td>128.119995</td>\n",
       "      <td>130.729996</td>\n",
       "      <td>130.729996</td>\n",
       "      <td>63896200</td>\n",
       "      <td>44.084227</td>\n",
       "      <td>0</td>\n",
       "      <td>NaN</td>\n",
       "    </tr>\n",
       "    <tr>\n",
       "      <th>2774</th>\n",
       "      <td>2023-01-11</td>\n",
       "      <td>131.250000</td>\n",
       "      <td>133.509995</td>\n",
       "      <td>130.460007</td>\n",
       "      <td>133.490005</td>\n",
       "      <td>133.490005</td>\n",
       "      <td>69359700</td>\n",
       "      <td>48.894849</td>\n",
       "      <td>0</td>\n",
       "      <td>NaN</td>\n",
       "    </tr>\n",
       "  </tbody>\n",
       "</table>\n",
       "</div>"
      ],
      "text/plain": [
       "            Date        Open        High         Low       Close   Adj Close  \\\n",
       "2770  2023-01-05  127.129997  127.769997  124.760002  125.019997  125.019997   \n",
       "2771  2023-01-06  126.010002  130.289993  124.889999  129.619995  129.619995   \n",
       "2772  2023-01-09  130.470001  133.410004  129.889999  130.149994  130.149994   \n",
       "2773  2023-01-10  130.259995  131.259995  128.119995  130.729996  130.729996   \n",
       "2774  2023-01-11  131.250000  133.509995  130.460007  133.490005  133.490005   \n",
       "\n",
       "        Volume        RSI  signal  Trend  \n",
       "2770  80962700  33.467992       0    NaN  \n",
       "2771  87686600  42.118917       0    NaN  \n",
       "2772  70790800  43.037926       0    NaN  \n",
       "2773  63896200  44.084227       0    NaN  \n",
       "2774  69359700  48.894849       0    NaN  "
      ]
     },
     "execution_count": 105,
     "metadata": {},
     "output_type": "execute_result"
    }
   ],
   "source": [
    "def Revsignal1():\n",
    "    signal = [0] * length\n",
    "    for row in range(1, length):\n",
    "        if ((isEngulfing(row)==1 or isStar(row)==1) and df.RSI[row]<30):\n",
    "            signal[row] = 1\n",
    "        elif((isEngulfing(row)==2 or isStar(row)==2) and df.RSI[row]>70):\n",
    "            signal[row] = 2\n",
    "        else:\n",
    "            signal[row] = 0\n",
    "    return signal\n",
    "\n",
    "df['signal'] = Revsignal1()\n",
    "df.tail()"
   ]
  },
  {
   "cell_type": "code",
   "execution_count": 107,
   "metadata": {},
   "outputs": [
    {
     "data": {
      "text/plain": [
       "Date         53\n",
       "Open         53\n",
       "High         53\n",
       "Low          53\n",
       "Close        53\n",
       "Adj Close    53\n",
       "Volume       53\n",
       "RSI          53\n",
       "signal       53\n",
       "Trend        53\n",
       "dtype: int64"
      ]
     },
     "execution_count": 107,
     "metadata": {},
     "output_type": "execute_result"
    }
   ],
   "source": [
    "#df.reset_index(drop=True, inplace=True)\n",
    "df[df['signal']==2].count()"
   ]
  },
  {
   "cell_type": "code",
   "execution_count": 108,
   "metadata": {},
   "outputs": [
    {
     "data": {
      "text/html": [
       "<div>\n",
       "<style scoped>\n",
       "    .dataframe tbody tr th:only-of-type {\n",
       "        vertical-align: middle;\n",
       "    }\n",
       "\n",
       "    .dataframe tbody tr th {\n",
       "        vertical-align: top;\n",
       "    }\n",
       "\n",
       "    .dataframe thead th {\n",
       "        text-align: right;\n",
       "    }\n",
       "</style>\n",
       "<table border=\"1\" class=\"dataframe\">\n",
       "  <thead>\n",
       "    <tr style=\"text-align: right;\">\n",
       "      <th></th>\n",
       "      <th>Date</th>\n",
       "      <th>Open</th>\n",
       "      <th>High</th>\n",
       "      <th>Low</th>\n",
       "      <th>Close</th>\n",
       "      <th>Adj Close</th>\n",
       "      <th>Volume</th>\n",
       "      <th>RSI</th>\n",
       "      <th>signal</th>\n",
       "      <th>Trend</th>\n",
       "    </tr>\n",
       "  </thead>\n",
       "  <tbody>\n",
       "    <tr>\n",
       "      <th>0</th>\n",
       "      <td>2012-01-03</td>\n",
       "      <td>14.621429</td>\n",
       "      <td>14.732143</td>\n",
       "      <td>14.607143</td>\n",
       "      <td>14.686786</td>\n",
       "      <td>12.519278</td>\n",
       "      <td>302220800</td>\n",
       "      <td>NaN</td>\n",
       "      <td>0</td>\n",
       "      <td>3.0</td>\n",
       "    </tr>\n",
       "    <tr>\n",
       "      <th>1</th>\n",
       "      <td>2012-01-04</td>\n",
       "      <td>14.642857</td>\n",
       "      <td>14.810000</td>\n",
       "      <td>14.617143</td>\n",
       "      <td>14.765714</td>\n",
       "      <td>12.586558</td>\n",
       "      <td>260022000</td>\n",
       "      <td>NaN</td>\n",
       "      <td>0</td>\n",
       "      <td>3.0</td>\n",
       "    </tr>\n",
       "    <tr>\n",
       "      <th>2</th>\n",
       "      <td>2012-01-05</td>\n",
       "      <td>14.819643</td>\n",
       "      <td>14.948214</td>\n",
       "      <td>14.738214</td>\n",
       "      <td>14.929643</td>\n",
       "      <td>12.726296</td>\n",
       "      <td>271269600</td>\n",
       "      <td>NaN</td>\n",
       "      <td>0</td>\n",
       "      <td>2.0</td>\n",
       "    </tr>\n",
       "    <tr>\n",
       "      <th>3</th>\n",
       "      <td>2012-01-06</td>\n",
       "      <td>14.991786</td>\n",
       "      <td>15.098214</td>\n",
       "      <td>14.972143</td>\n",
       "      <td>15.085714</td>\n",
       "      <td>12.859330</td>\n",
       "      <td>318292800</td>\n",
       "      <td>NaN</td>\n",
       "      <td>0</td>\n",
       "      <td>3.0</td>\n",
       "    </tr>\n",
       "    <tr>\n",
       "      <th>4</th>\n",
       "      <td>2012-01-09</td>\n",
       "      <td>15.196429</td>\n",
       "      <td>15.276786</td>\n",
       "      <td>15.048214</td>\n",
       "      <td>15.061786</td>\n",
       "      <td>12.838933</td>\n",
       "      <td>394024400</td>\n",
       "      <td>NaN</td>\n",
       "      <td>0</td>\n",
       "      <td>3.0</td>\n",
       "    </tr>\n",
       "    <tr>\n",
       "      <th>5</th>\n",
       "      <td>2012-01-10</td>\n",
       "      <td>15.211071</td>\n",
       "      <td>15.214286</td>\n",
       "      <td>15.053571</td>\n",
       "      <td>15.115714</td>\n",
       "      <td>12.884902</td>\n",
       "      <td>258196400</td>\n",
       "      <td>NaN</td>\n",
       "      <td>0</td>\n",
       "      <td>1.0</td>\n",
       "    </tr>\n",
       "    <tr>\n",
       "      <th>6</th>\n",
       "      <td>2012-01-11</td>\n",
       "      <td>15.095714</td>\n",
       "      <td>15.101786</td>\n",
       "      <td>14.975357</td>\n",
       "      <td>15.091071</td>\n",
       "      <td>12.863899</td>\n",
       "      <td>215084800</td>\n",
       "      <td>NaN</td>\n",
       "      <td>0</td>\n",
       "      <td>3.0</td>\n",
       "    </tr>\n",
       "    <tr>\n",
       "      <th>7</th>\n",
       "      <td>2012-01-12</td>\n",
       "      <td>15.081429</td>\n",
       "      <td>15.103571</td>\n",
       "      <td>14.955357</td>\n",
       "      <td>15.049643</td>\n",
       "      <td>12.828583</td>\n",
       "      <td>212587200</td>\n",
       "      <td>NaN</td>\n",
       "      <td>0</td>\n",
       "      <td>1.0</td>\n",
       "    </tr>\n",
       "    <tr>\n",
       "      <th>8</th>\n",
       "      <td>2012-01-13</td>\n",
       "      <td>14.989286</td>\n",
       "      <td>15.016071</td>\n",
       "      <td>14.952143</td>\n",
       "      <td>14.993214</td>\n",
       "      <td>12.780482</td>\n",
       "      <td>226021600</td>\n",
       "      <td>NaN</td>\n",
       "      <td>0</td>\n",
       "      <td>2.0</td>\n",
       "    </tr>\n",
       "    <tr>\n",
       "      <th>9</th>\n",
       "      <td>2012-01-17</td>\n",
       "      <td>15.150000</td>\n",
       "      <td>15.213929</td>\n",
       "      <td>15.105714</td>\n",
       "      <td>15.167857</td>\n",
       "      <td>12.929351</td>\n",
       "      <td>242897200</td>\n",
       "      <td>NaN</td>\n",
       "      <td>0</td>\n",
       "      <td>2.0</td>\n",
       "    </tr>\n",
       "    <tr>\n",
       "      <th>10</th>\n",
       "      <td>2012-01-18</td>\n",
       "      <td>15.248571</td>\n",
       "      <td>15.338214</td>\n",
       "      <td>15.225000</td>\n",
       "      <td>15.325357</td>\n",
       "      <td>13.063608</td>\n",
       "      <td>276791200</td>\n",
       "      <td>NaN</td>\n",
       "      <td>0</td>\n",
       "      <td>3.0</td>\n",
       "    </tr>\n",
       "    <tr>\n",
       "      <th>11</th>\n",
       "      <td>2012-01-19</td>\n",
       "      <td>15.362500</td>\n",
       "      <td>15.406071</td>\n",
       "      <td>15.232500</td>\n",
       "      <td>15.276786</td>\n",
       "      <td>13.022205</td>\n",
       "      <td>261738400</td>\n",
       "      <td>NaN</td>\n",
       "      <td>0</td>\n",
       "      <td>1.0</td>\n",
       "    </tr>\n",
       "    <tr>\n",
       "      <th>12</th>\n",
       "      <td>2012-01-20</td>\n",
       "      <td>15.267500</td>\n",
       "      <td>15.267857</td>\n",
       "      <td>14.991071</td>\n",
       "      <td>15.010714</td>\n",
       "      <td>12.795400</td>\n",
       "      <td>413974400</td>\n",
       "      <td>NaN</td>\n",
       "      <td>0</td>\n",
       "      <td>2.0</td>\n",
       "    </tr>\n",
       "    <tr>\n",
       "      <th>13</th>\n",
       "      <td>2012-01-23</td>\n",
       "      <td>15.095357</td>\n",
       "      <td>15.301786</td>\n",
       "      <td>15.082143</td>\n",
       "      <td>15.264643</td>\n",
       "      <td>13.011852</td>\n",
       "      <td>306062400</td>\n",
       "      <td>NaN</td>\n",
       "      <td>0</td>\n",
       "      <td>1.0</td>\n",
       "    </tr>\n",
       "    <tr>\n",
       "      <th>14</th>\n",
       "      <td>2012-01-24</td>\n",
       "      <td>15.182143</td>\n",
       "      <td>15.182143</td>\n",
       "      <td>14.983929</td>\n",
       "      <td>15.014643</td>\n",
       "      <td>12.798752</td>\n",
       "      <td>547638000</td>\n",
       "      <td>52.497138</td>\n",
       "      <td>0</td>\n",
       "      <td>2.0</td>\n",
       "    </tr>\n",
       "    <tr>\n",
       "      <th>15</th>\n",
       "      <td>2012-01-25</td>\n",
       "      <td>16.230000</td>\n",
       "      <td>16.230356</td>\n",
       "      <td>15.847500</td>\n",
       "      <td>15.952143</td>\n",
       "      <td>13.597891</td>\n",
       "      <td>958314000</td>\n",
       "      <td>73.518504</td>\n",
       "      <td>0</td>\n",
       "      <td>3.0</td>\n",
       "    </tr>\n",
       "    <tr>\n",
       "      <th>16</th>\n",
       "      <td>2012-01-26</td>\n",
       "      <td>16.012857</td>\n",
       "      <td>16.028214</td>\n",
       "      <td>15.826429</td>\n",
       "      <td>15.879643</td>\n",
       "      <td>13.536094</td>\n",
       "      <td>323985200</td>\n",
       "      <td>70.905312</td>\n",
       "      <td>0</td>\n",
       "      <td>3.0</td>\n",
       "    </tr>\n",
       "    <tr>\n",
       "      <th>17</th>\n",
       "      <td>2012-01-27</td>\n",
       "      <td>15.869286</td>\n",
       "      <td>16.017143</td>\n",
       "      <td>15.848929</td>\n",
       "      <td>15.974286</td>\n",
       "      <td>13.616768</td>\n",
       "      <td>299709200</td>\n",
       "      <td>72.289983</td>\n",
       "      <td>0</td>\n",
       "      <td>3.0</td>\n",
       "    </tr>\n",
       "    <tr>\n",
       "      <th>18</th>\n",
       "      <td>2012-01-30</td>\n",
       "      <td>15.918214</td>\n",
       "      <td>16.210714</td>\n",
       "      <td>15.906786</td>\n",
       "      <td>16.178928</td>\n",
       "      <td>13.791210</td>\n",
       "      <td>379341200</td>\n",
       "      <td>75.054482</td>\n",
       "      <td>0</td>\n",
       "      <td>2.0</td>\n",
       "    </tr>\n",
       "    <tr>\n",
       "      <th>19</th>\n",
       "      <td>2012-01-31</td>\n",
       "      <td>16.271070</td>\n",
       "      <td>16.365713</td>\n",
       "      <td>16.181070</td>\n",
       "      <td>16.302856</td>\n",
       "      <td>13.896847</td>\n",
       "      <td>391683600</td>\n",
       "      <td>76.578380</td>\n",
       "      <td>0</td>\n",
       "      <td>3.0</td>\n",
       "    </tr>\n",
       "    <tr>\n",
       "      <th>20</th>\n",
       "      <td>2012-02-01</td>\n",
       "      <td>16.371786</td>\n",
       "      <td>16.392500</td>\n",
       "      <td>16.269644</td>\n",
       "      <td>16.292500</td>\n",
       "      <td>13.888019</td>\n",
       "      <td>270046000</td>\n",
       "      <td>76.159687</td>\n",
       "      <td>0</td>\n",
       "      <td>3.0</td>\n",
       "    </tr>\n",
       "    <tr>\n",
       "      <th>21</th>\n",
       "      <td>2012-02-02</td>\n",
       "      <td>16.282143</td>\n",
       "      <td>16.327499</td>\n",
       "      <td>16.213572</td>\n",
       "      <td>16.254286</td>\n",
       "      <td>13.855441</td>\n",
       "      <td>186796400</td>\n",
       "      <td>74.540135</td>\n",
       "      <td>0</td>\n",
       "      <td>2.0</td>\n",
       "    </tr>\n",
       "    <tr>\n",
       "      <th>22</th>\n",
       "      <td>2012-02-03</td>\n",
       "      <td>16.332144</td>\n",
       "      <td>16.428572</td>\n",
       "      <td>16.270000</td>\n",
       "      <td>16.417143</td>\n",
       "      <td>13.994265</td>\n",
       "      <td>286599600</td>\n",
       "      <td>76.804004</td>\n",
       "      <td>0</td>\n",
       "      <td>3.0</td>\n",
       "    </tr>\n",
       "    <tr>\n",
       "      <th>23</th>\n",
       "      <td>2012-02-06</td>\n",
       "      <td>16.370714</td>\n",
       "      <td>16.606428</td>\n",
       "      <td>16.364286</td>\n",
       "      <td>16.570356</td>\n",
       "      <td>14.124866</td>\n",
       "      <td>249412800</td>\n",
       "      <td>78.720997</td>\n",
       "      <td>0</td>\n",
       "      <td>2.0</td>\n",
       "    </tr>\n",
       "    <tr>\n",
       "      <th>24</th>\n",
       "      <td>2012-02-07</td>\n",
       "      <td>16.616072</td>\n",
       "      <td>16.776787</td>\n",
       "      <td>16.592142</td>\n",
       "      <td>16.743929</td>\n",
       "      <td>14.272825</td>\n",
       "      <td>316223600</td>\n",
       "      <td>80.669992</td>\n",
       "      <td>0</td>\n",
       "      <td>2.0</td>\n",
       "    </tr>\n",
       "    <tr>\n",
       "      <th>25</th>\n",
       "      <td>2012-02-08</td>\n",
       "      <td>16.803572</td>\n",
       "      <td>17.028214</td>\n",
       "      <td>16.775000</td>\n",
       "      <td>17.024286</td>\n",
       "      <td>14.511809</td>\n",
       "      <td>407890000</td>\n",
       "      <td>83.326442</td>\n",
       "      <td>0</td>\n",
       "      <td>2.0</td>\n",
       "    </tr>\n",
       "    <tr>\n",
       "      <th>26</th>\n",
       "      <td>2012-02-09</td>\n",
       "      <td>17.170000</td>\n",
       "      <td>17.741072</td>\n",
       "      <td>17.162857</td>\n",
       "      <td>17.613214</td>\n",
       "      <td>15.013815</td>\n",
       "      <td>884214800</td>\n",
       "      <td>87.280723</td>\n",
       "      <td>0</td>\n",
       "      <td>3.0</td>\n",
       "    </tr>\n",
       "    <tr>\n",
       "      <th>27</th>\n",
       "      <td>2012-02-10</td>\n",
       "      <td>17.534286</td>\n",
       "      <td>17.772142</td>\n",
       "      <td>17.448214</td>\n",
       "      <td>17.622143</td>\n",
       "      <td>15.021430</td>\n",
       "      <td>631302000</td>\n",
       "      <td>87.329786</td>\n",
       "      <td>0</td>\n",
       "      <td>2.0</td>\n",
       "    </tr>\n",
       "    <tr>\n",
       "      <th>28</th>\n",
       "      <td>2012-02-13</td>\n",
       "      <td>17.840357</td>\n",
       "      <td>17.993929</td>\n",
       "      <td>17.753214</td>\n",
       "      <td>17.950001</td>\n",
       "      <td>15.300900</td>\n",
       "      <td>517216000</td>\n",
       "      <td>89.006603</td>\n",
       "      <td>0</td>\n",
       "      <td>3.0</td>\n",
       "    </tr>\n",
       "    <tr>\n",
       "      <th>29</th>\n",
       "      <td>2012-02-14</td>\n",
       "      <td>18.023571</td>\n",
       "      <td>18.198570</td>\n",
       "      <td>17.928572</td>\n",
       "      <td>18.195000</td>\n",
       "      <td>15.509745</td>\n",
       "      <td>460398400</td>\n",
       "      <td>90.064745</td>\n",
       "      <td>0</td>\n",
       "      <td>3.0</td>\n",
       "    </tr>\n",
       "  </tbody>\n",
       "</table>\n",
       "</div>"
      ],
      "text/plain": [
       "          Date       Open       High        Low      Close  Adj Close  \\\n",
       "0   2012-01-03  14.621429  14.732143  14.607143  14.686786  12.519278   \n",
       "1   2012-01-04  14.642857  14.810000  14.617143  14.765714  12.586558   \n",
       "2   2012-01-05  14.819643  14.948214  14.738214  14.929643  12.726296   \n",
       "3   2012-01-06  14.991786  15.098214  14.972143  15.085714  12.859330   \n",
       "4   2012-01-09  15.196429  15.276786  15.048214  15.061786  12.838933   \n",
       "5   2012-01-10  15.211071  15.214286  15.053571  15.115714  12.884902   \n",
       "6   2012-01-11  15.095714  15.101786  14.975357  15.091071  12.863899   \n",
       "7   2012-01-12  15.081429  15.103571  14.955357  15.049643  12.828583   \n",
       "8   2012-01-13  14.989286  15.016071  14.952143  14.993214  12.780482   \n",
       "9   2012-01-17  15.150000  15.213929  15.105714  15.167857  12.929351   \n",
       "10  2012-01-18  15.248571  15.338214  15.225000  15.325357  13.063608   \n",
       "11  2012-01-19  15.362500  15.406071  15.232500  15.276786  13.022205   \n",
       "12  2012-01-20  15.267500  15.267857  14.991071  15.010714  12.795400   \n",
       "13  2012-01-23  15.095357  15.301786  15.082143  15.264643  13.011852   \n",
       "14  2012-01-24  15.182143  15.182143  14.983929  15.014643  12.798752   \n",
       "15  2012-01-25  16.230000  16.230356  15.847500  15.952143  13.597891   \n",
       "16  2012-01-26  16.012857  16.028214  15.826429  15.879643  13.536094   \n",
       "17  2012-01-27  15.869286  16.017143  15.848929  15.974286  13.616768   \n",
       "18  2012-01-30  15.918214  16.210714  15.906786  16.178928  13.791210   \n",
       "19  2012-01-31  16.271070  16.365713  16.181070  16.302856  13.896847   \n",
       "20  2012-02-01  16.371786  16.392500  16.269644  16.292500  13.888019   \n",
       "21  2012-02-02  16.282143  16.327499  16.213572  16.254286  13.855441   \n",
       "22  2012-02-03  16.332144  16.428572  16.270000  16.417143  13.994265   \n",
       "23  2012-02-06  16.370714  16.606428  16.364286  16.570356  14.124866   \n",
       "24  2012-02-07  16.616072  16.776787  16.592142  16.743929  14.272825   \n",
       "25  2012-02-08  16.803572  17.028214  16.775000  17.024286  14.511809   \n",
       "26  2012-02-09  17.170000  17.741072  17.162857  17.613214  15.013815   \n",
       "27  2012-02-10  17.534286  17.772142  17.448214  17.622143  15.021430   \n",
       "28  2012-02-13  17.840357  17.993929  17.753214  17.950001  15.300900   \n",
       "29  2012-02-14  18.023571  18.198570  17.928572  18.195000  15.509745   \n",
       "\n",
       "       Volume        RSI  signal  Trend  \n",
       "0   302220800        NaN       0    3.0  \n",
       "1   260022000        NaN       0    3.0  \n",
       "2   271269600        NaN       0    2.0  \n",
       "3   318292800        NaN       0    3.0  \n",
       "4   394024400        NaN       0    3.0  \n",
       "5   258196400        NaN       0    1.0  \n",
       "6   215084800        NaN       0    3.0  \n",
       "7   212587200        NaN       0    1.0  \n",
       "8   226021600        NaN       0    2.0  \n",
       "9   242897200        NaN       0    2.0  \n",
       "10  276791200        NaN       0    3.0  \n",
       "11  261738400        NaN       0    1.0  \n",
       "12  413974400        NaN       0    2.0  \n",
       "13  306062400        NaN       0    1.0  \n",
       "14  547638000  52.497138       0    2.0  \n",
       "15  958314000  73.518504       0    3.0  \n",
       "16  323985200  70.905312       0    3.0  \n",
       "17  299709200  72.289983       0    3.0  \n",
       "18  379341200  75.054482       0    2.0  \n",
       "19  391683600  76.578380       0    3.0  \n",
       "20  270046000  76.159687       0    3.0  \n",
       "21  186796400  74.540135       0    2.0  \n",
       "22  286599600  76.804004       0    3.0  \n",
       "23  249412800  78.720997       0    2.0  \n",
       "24  316223600  80.669992       0    2.0  \n",
       "25  407890000  83.326442       0    2.0  \n",
       "26  884214800  87.280723       0    3.0  \n",
       "27  631302000  87.329786       0    2.0  \n",
       "28  517216000  89.006603       0    3.0  \n",
       "29  460398400  90.064745       0    3.0  "
      ]
     },
     "execution_count": 108,
     "metadata": {},
     "output_type": "execute_result"
    }
   ],
   "source": [
    "#Target\n",
    "def mytarget(df1, barsfront):\n",
    "    length = len(df1)\n",
    "    high = list(df1['High'])\n",
    "    low = list(df1['Low'])\n",
    "    close = list(df1['Close'])\n",
    "    open = list(df1['Open'])\n",
    "    trendcat = [None] * length\n",
    "    \n",
    "    piplim = 300e-5\n",
    "    for line in range (0, length-1-barsfront):\n",
    "        for i in range(1,barsfront+1):\n",
    "            if( ((high[line+i]-close[line])>piplim) and ((close[line]-low[line+i])>piplim) ):\n",
    "                trendcat[line] = 3 # no trend\n",
    "                break\n",
    "            elif(close[line]-low[line+i])>piplim:\n",
    "                trendcat[line] = 1 #-1 downtrend\n",
    "                break\n",
    "            elif ((high[line+i]-close[line])>piplim):\n",
    "                trendcat[line] = 2 # uptrend\n",
    "                break\n",
    "            else:\n",
    "                trendcat[line] = 0 # no clear trend  \n",
    "    return trendcat\n",
    "\n",
    "df['Trend'] = mytarget(df,10)\n",
    "df.head(30)"
   ]
  },
  {
   "cell_type": "code",
   "execution_count": 113,
   "metadata": {},
   "outputs": [
    {
     "name": "stdout",
     "output_type": "stream",
     "text": [
      "0.875\n"
     ]
    },
    {
     "data": {
      "text/html": [
       "<div>\n",
       "<style scoped>\n",
       "    .dataframe tbody tr th:only-of-type {\n",
       "        vertical-align: middle;\n",
       "    }\n",
       "\n",
       "    .dataframe tbody tr th {\n",
       "        vertical-align: top;\n",
       "    }\n",
       "\n",
       "    .dataframe thead th {\n",
       "        text-align: right;\n",
       "    }\n",
       "</style>\n",
       "<table border=\"1\" class=\"dataframe\">\n",
       "  <thead>\n",
       "    <tr style=\"text-align: right;\">\n",
       "      <th></th>\n",
       "      <th>Date</th>\n",
       "      <th>Open</th>\n",
       "      <th>High</th>\n",
       "      <th>Low</th>\n",
       "      <th>Close</th>\n",
       "      <th>Adj Close</th>\n",
       "      <th>Volume</th>\n",
       "      <th>RSI</th>\n",
       "      <th>signal</th>\n",
       "      <th>Trend</th>\n",
       "      <th>result</th>\n",
       "    </tr>\n",
       "  </thead>\n",
       "  <tbody>\n",
       "    <tr>\n",
       "      <th>1097</th>\n",
       "      <td>2016-05-13</td>\n",
       "      <td>22.500000</td>\n",
       "      <td>22.917500</td>\n",
       "      <td>22.500000</td>\n",
       "      <td>22.629999</td>\n",
       "      <td>20.956589</td>\n",
       "      <td>177571200</td>\n",
       "      <td>23.427295</td>\n",
       "      <td>1</td>\n",
       "      <td>2.0</td>\n",
       "      <td>1</td>\n",
       "    </tr>\n",
       "    <tr>\n",
       "      <th>2302</th>\n",
       "      <td>2021-02-26</td>\n",
       "      <td>122.589996</td>\n",
       "      <td>124.849998</td>\n",
       "      <td>121.199997</td>\n",
       "      <td>121.260002</td>\n",
       "      <td>120.000671</td>\n",
       "      <td>164560400</td>\n",
       "      <td>29.106771</td>\n",
       "      <td>1</td>\n",
       "      <td>2.0</td>\n",
       "      <td>1</td>\n",
       "    </tr>\n",
       "  </tbody>\n",
       "</table>\n",
       "</div>"
      ],
      "text/plain": [
       "            Date        Open        High         Low       Close   Adj Close  \\\n",
       "1097  2016-05-13   22.500000   22.917500   22.500000   22.629999   20.956589   \n",
       "2302  2021-02-26  122.589996  124.849998  121.199997  121.260002  120.000671   \n",
       "\n",
       "         Volume        RSI  signal  Trend  result  \n",
       "1097  177571200  23.427295       1    2.0       1  \n",
       "2302  164560400  29.106771       1    2.0       1  "
      ]
     },
     "execution_count": 113,
     "metadata": {},
     "output_type": "execute_result"
    }
   ],
   "source": [
    "import numpy as np\n",
    "conditions = [( (df['Trend'] == 2) | (df['Trend'] == 3) ) & (df['signal'] == 1), ((df['Trend'] == 2) | (df['Trend'] == 3)) & (df['signal'] == 2)]\n",
    "values = [1, 2]\n",
    "df['result'] = np.select(conditions, values)\n",
    "\n",
    "trendId=1\n",
    "print(df[df['result']==trendId].result.count()/df[df['signal']==trendId].signal.count())\n",
    "df[ (df['Trend']!=trendId) & (df['Trend']!=3) & (df['signal']==trendId) ] # false positives"
   ]
  },
  {
   "cell_type": "code",
   "execution_count": 111,
   "metadata": {},
   "outputs": [
    {
     "data": {
      "application/vnd.plotly.v1+json": {
       "config": {
        "plotlyServerURL": "https://plot.ly"
       },
       "data": [
        {
         "close": [
          150.770004,
          151.759995,
          149.839996,
          142.479996,
          138.199997,
          142.449997,
          146.100006,
          146.399994,
          145.429993,
          140.089996,
          140.419998,
          138.979996,
          138.339996,
          142.990005,
          138.380005,
          142.410004,
          143.75,
          143.860001,
          143.389999,
          147.270004,
          149.449997,
          152.339996,
          149.350006,
          144.800003,
          155.740005,
          153.339996,
          150.649994,
          145.029999,
          138.880005,
          138.380005,
          138.919998,
          139.5,
          134.869995,
          146.869995,
          149.699997,
          148.279999,
          150.039993,
          148.789993,
          150.720001,
          151.289993,
          148.009995,
          150.179993,
          151.070007,
          148.110001,
          144.220001,
          141.169998,
          148.029999,
          148.309998,
          147.809998,
          146.630005,
          142.910004,
          140.940002,
          142.649994,
          142.160004,
          144.490005,
          145.470001,
          143.210007,
          136.5,
          134.509995,
          132.369995,
          132.300003,
          135.449997,
          132.229996,
          131.860001,
          130.029999,
          126.040001,
          129.610001,
          129.929993,
          125.07,
          126.360001,
          125.019997,
          129.619995,
          130.149994,
          130.729996,
          133.490005
         ],
         "high": [
          153.770004,
          154.720001,
          150.639999,
          146.720001,
          143.100006,
          143.070007,
          146.220001,
          147.380005,
          147.539993,
          143.100006,
          141.889999,
          141.350006,
          140.360001,
          143.589996,
          144.520004,
          142.899994,
          146.699997,
          144.949997,
          145.889999,
          147.850006,
          150.229996,
          152.490005,
          151.990005,
          149.050003,
          157.5,
          154.240005,
          155.449997,
          152.169998,
          142.800003,
          142.669998,
          139.149994,
          141.429993,
          138.550003,
          146.869995,
          150.009995,
          150.279999,
          153.589996,
          149.869995,
          151.479996,
          152.699997,
          150.369995,
          150.419998,
          151.830002,
          148.880005,
          146.639999,
          144.809998,
          148.720001,
          149.130005,
          148,
          150.919998,
          147.300003,
          143.369995,
          143.520004,
          145.570007,
          144.5,
          149.970001,
          146.660004,
          141.800003,
          137.649994,
          135.199997,
          133.25,
          136.809998,
          134.559998,
          132.419998,
          131.410004,
          131.029999,
          130.479996,
          129.949997,
          130.899994,
          128.660004,
          127.769997,
          130.289993,
          133.410004,
          131.259995,
          133.509995
         ],
         "low": [
          149.639999,
          149.949997,
          144.839996,
          140.679993,
          138,
          137.690002,
          144.259995,
          143.009995,
          145.220001,
          139.449997,
          138.570007,
          138.220001,
          138.160004,
          134.369995,
          138.190002,
          140.270004,
          140.610001,
          141.5,
          142.649994,
          142.649994,
          146,
          149.360001,
          148.039993,
          144.130005,
          147.820007,
          151.919998,
          149.130005,
          145,
          138.75,
          134.380005,
          135.669998,
          137.490005,
          134.589996,
          139.5,
          144.369995,
          147.429993,
          148.559998,
          147.289993,
          146.149994,
          149.970001,
          147.720001,
          146.929993,
          149.339996,
          147.119995,
          143.380005,
          140.350006,
          140.550003,
          146.610001,
          145.649994,
          145.770004,
          141.919998,
          140,
          141.100006,
          140.899994,
          141.059998,
          144.240005,
          141.160004,
          136.029999,
          133.729996,
          131.320007,
          129.889999,
          132.75,
          130.300003,
          129.639999,
          128.720001,
          125.870003,
          127.730003,
          127.43,
          124.169998,
          125.080002,
          124.760002,
          124.889999,
          129.889999,
          128.119995,
          130.460007
         ],
         "open": [
          149.660004,
          152.740005,
          147.639999,
          146.100006,
          141.279999,
          138.210007,
          145.029999,
          144.070007,
          145.809998,
          142.539993,
          140.419998,
          139.899994,
          139.130005,
          134.990005,
          144.309998,
          141.070007,
          145.490005,
          141.690002,
          143.020004,
          142.869995,
          147.190002,
          150.089996,
          150.960007,
          148.070007,
          148.199997,
          153.160004,
          155.080002,
          148.949997,
          142.059998,
          142.089996,
          137.110001,
          140.410004,
          138.5,
          141.240005,
          145.820007,
          148.970001,
          152.220001,
          149.130005,
          146.429993,
          152.309998,
          150.160004,
          148.130005,
          149.449997,
          148.309998,
          145.139999,
          144.289993,
          141.399994,
          148.210007,
          145.960007,
          147.770004,
          147.070007,
          142.190002,
          142.360001,
          142.339996,
          142.699997,
          149.5,
          145.350006,
          141.110001,
          136.690002,
          135.110001,
          131.389999,
          132.979996,
          134.350006,
          130.919998,
          131.380005,
          129.669998,
          127.989998,
          128.410004,
          130.279999,
          126.889999,
          127.129997,
          126.010002,
          130.470001,
          130.259995,
          131.25
         ],
         "type": "candlestick",
         "x": [
          2700,
          2701,
          2702,
          2703,
          2704,
          2705,
          2706,
          2707,
          2708,
          2709,
          2710,
          2711,
          2712,
          2713,
          2714,
          2715,
          2716,
          2717,
          2718,
          2719,
          2720,
          2721,
          2722,
          2723,
          2724,
          2725,
          2726,
          2727,
          2728,
          2729,
          2730,
          2731,
          2732,
          2733,
          2734,
          2735,
          2736,
          2737,
          2738,
          2739,
          2740,
          2741,
          2742,
          2743,
          2744,
          2745,
          2746,
          2747,
          2748,
          2749,
          2750,
          2751,
          2752,
          2753,
          2754,
          2755,
          2756,
          2757,
          2758,
          2759,
          2760,
          2761,
          2762,
          2763,
          2764,
          2765,
          2766,
          2767,
          2768,
          2769,
          2770,
          2771,
          2772,
          2773,
          2774
         ]
        }
       ],
       "layout": {
        "template": {
         "data": {
          "bar": [
           {
            "error_x": {
             "color": "#2a3f5f"
            },
            "error_y": {
             "color": "#2a3f5f"
            },
            "marker": {
             "line": {
              "color": "#E5ECF6",
              "width": 0.5
             },
             "pattern": {
              "fillmode": "overlay",
              "size": 10,
              "solidity": 0.2
             }
            },
            "type": "bar"
           }
          ],
          "barpolar": [
           {
            "marker": {
             "line": {
              "color": "#E5ECF6",
              "width": 0.5
             },
             "pattern": {
              "fillmode": "overlay",
              "size": 10,
              "solidity": 0.2
             }
            },
            "type": "barpolar"
           }
          ],
          "carpet": [
           {
            "aaxis": {
             "endlinecolor": "#2a3f5f",
             "gridcolor": "white",
             "linecolor": "white",
             "minorgridcolor": "white",
             "startlinecolor": "#2a3f5f"
            },
            "baxis": {
             "endlinecolor": "#2a3f5f",
             "gridcolor": "white",
             "linecolor": "white",
             "minorgridcolor": "white",
             "startlinecolor": "#2a3f5f"
            },
            "type": "carpet"
           }
          ],
          "choropleth": [
           {
            "colorbar": {
             "outlinewidth": 0,
             "ticks": ""
            },
            "type": "choropleth"
           }
          ],
          "contour": [
           {
            "colorbar": {
             "outlinewidth": 0,
             "ticks": ""
            },
            "colorscale": [
             [
              0,
              "#0d0887"
             ],
             [
              0.1111111111111111,
              "#46039f"
             ],
             [
              0.2222222222222222,
              "#7201a8"
             ],
             [
              0.3333333333333333,
              "#9c179e"
             ],
             [
              0.4444444444444444,
              "#bd3786"
             ],
             [
              0.5555555555555556,
              "#d8576b"
             ],
             [
              0.6666666666666666,
              "#ed7953"
             ],
             [
              0.7777777777777778,
              "#fb9f3a"
             ],
             [
              0.8888888888888888,
              "#fdca26"
             ],
             [
              1,
              "#f0f921"
             ]
            ],
            "type": "contour"
           }
          ],
          "contourcarpet": [
           {
            "colorbar": {
             "outlinewidth": 0,
             "ticks": ""
            },
            "type": "contourcarpet"
           }
          ],
          "heatmap": [
           {
            "colorbar": {
             "outlinewidth": 0,
             "ticks": ""
            },
            "colorscale": [
             [
              0,
              "#0d0887"
             ],
             [
              0.1111111111111111,
              "#46039f"
             ],
             [
              0.2222222222222222,
              "#7201a8"
             ],
             [
              0.3333333333333333,
              "#9c179e"
             ],
             [
              0.4444444444444444,
              "#bd3786"
             ],
             [
              0.5555555555555556,
              "#d8576b"
             ],
             [
              0.6666666666666666,
              "#ed7953"
             ],
             [
              0.7777777777777778,
              "#fb9f3a"
             ],
             [
              0.8888888888888888,
              "#fdca26"
             ],
             [
              1,
              "#f0f921"
             ]
            ],
            "type": "heatmap"
           }
          ],
          "heatmapgl": [
           {
            "colorbar": {
             "outlinewidth": 0,
             "ticks": ""
            },
            "colorscale": [
             [
              0,
              "#0d0887"
             ],
             [
              0.1111111111111111,
              "#46039f"
             ],
             [
              0.2222222222222222,
              "#7201a8"
             ],
             [
              0.3333333333333333,
              "#9c179e"
             ],
             [
              0.4444444444444444,
              "#bd3786"
             ],
             [
              0.5555555555555556,
              "#d8576b"
             ],
             [
              0.6666666666666666,
              "#ed7953"
             ],
             [
              0.7777777777777778,
              "#fb9f3a"
             ],
             [
              0.8888888888888888,
              "#fdca26"
             ],
             [
              1,
              "#f0f921"
             ]
            ],
            "type": "heatmapgl"
           }
          ],
          "histogram": [
           {
            "marker": {
             "pattern": {
              "fillmode": "overlay",
              "size": 10,
              "solidity": 0.2
             }
            },
            "type": "histogram"
           }
          ],
          "histogram2d": [
           {
            "colorbar": {
             "outlinewidth": 0,
             "ticks": ""
            },
            "colorscale": [
             [
              0,
              "#0d0887"
             ],
             [
              0.1111111111111111,
              "#46039f"
             ],
             [
              0.2222222222222222,
              "#7201a8"
             ],
             [
              0.3333333333333333,
              "#9c179e"
             ],
             [
              0.4444444444444444,
              "#bd3786"
             ],
             [
              0.5555555555555556,
              "#d8576b"
             ],
             [
              0.6666666666666666,
              "#ed7953"
             ],
             [
              0.7777777777777778,
              "#fb9f3a"
             ],
             [
              0.8888888888888888,
              "#fdca26"
             ],
             [
              1,
              "#f0f921"
             ]
            ],
            "type": "histogram2d"
           }
          ],
          "histogram2dcontour": [
           {
            "colorbar": {
             "outlinewidth": 0,
             "ticks": ""
            },
            "colorscale": [
             [
              0,
              "#0d0887"
             ],
             [
              0.1111111111111111,
              "#46039f"
             ],
             [
              0.2222222222222222,
              "#7201a8"
             ],
             [
              0.3333333333333333,
              "#9c179e"
             ],
             [
              0.4444444444444444,
              "#bd3786"
             ],
             [
              0.5555555555555556,
              "#d8576b"
             ],
             [
              0.6666666666666666,
              "#ed7953"
             ],
             [
              0.7777777777777778,
              "#fb9f3a"
             ],
             [
              0.8888888888888888,
              "#fdca26"
             ],
             [
              1,
              "#f0f921"
             ]
            ],
            "type": "histogram2dcontour"
           }
          ],
          "mesh3d": [
           {
            "colorbar": {
             "outlinewidth": 0,
             "ticks": ""
            },
            "type": "mesh3d"
           }
          ],
          "parcoords": [
           {
            "line": {
             "colorbar": {
              "outlinewidth": 0,
              "ticks": ""
             }
            },
            "type": "parcoords"
           }
          ],
          "pie": [
           {
            "automargin": true,
            "type": "pie"
           }
          ],
          "scatter": [
           {
            "marker": {
             "colorbar": {
              "outlinewidth": 0,
              "ticks": ""
             }
            },
            "type": "scatter"
           }
          ],
          "scatter3d": [
           {
            "line": {
             "colorbar": {
              "outlinewidth": 0,
              "ticks": ""
             }
            },
            "marker": {
             "colorbar": {
              "outlinewidth": 0,
              "ticks": ""
             }
            },
            "type": "scatter3d"
           }
          ],
          "scattercarpet": [
           {
            "marker": {
             "colorbar": {
              "outlinewidth": 0,
              "ticks": ""
             }
            },
            "type": "scattercarpet"
           }
          ],
          "scattergeo": [
           {
            "marker": {
             "colorbar": {
              "outlinewidth": 0,
              "ticks": ""
             }
            },
            "type": "scattergeo"
           }
          ],
          "scattergl": [
           {
            "marker": {
             "colorbar": {
              "outlinewidth": 0,
              "ticks": ""
             }
            },
            "type": "scattergl"
           }
          ],
          "scattermapbox": [
           {
            "marker": {
             "colorbar": {
              "outlinewidth": 0,
              "ticks": ""
             }
            },
            "type": "scattermapbox"
           }
          ],
          "scatterpolar": [
           {
            "marker": {
             "colorbar": {
              "outlinewidth": 0,
              "ticks": ""
             }
            },
            "type": "scatterpolar"
           }
          ],
          "scatterpolargl": [
           {
            "marker": {
             "colorbar": {
              "outlinewidth": 0,
              "ticks": ""
             }
            },
            "type": "scatterpolargl"
           }
          ],
          "scatterternary": [
           {
            "marker": {
             "colorbar": {
              "outlinewidth": 0,
              "ticks": ""
             }
            },
            "type": "scatterternary"
           }
          ],
          "surface": [
           {
            "colorbar": {
             "outlinewidth": 0,
             "ticks": ""
            },
            "colorscale": [
             [
              0,
              "#0d0887"
             ],
             [
              0.1111111111111111,
              "#46039f"
             ],
             [
              0.2222222222222222,
              "#7201a8"
             ],
             [
              0.3333333333333333,
              "#9c179e"
             ],
             [
              0.4444444444444444,
              "#bd3786"
             ],
             [
              0.5555555555555556,
              "#d8576b"
             ],
             [
              0.6666666666666666,
              "#ed7953"
             ],
             [
              0.7777777777777778,
              "#fb9f3a"
             ],
             [
              0.8888888888888888,
              "#fdca26"
             ],
             [
              1,
              "#f0f921"
             ]
            ],
            "type": "surface"
           }
          ],
          "table": [
           {
            "cells": {
             "fill": {
              "color": "#EBF0F8"
             },
             "line": {
              "color": "white"
             }
            },
            "header": {
             "fill": {
              "color": "#C8D4E3"
             },
             "line": {
              "color": "white"
             }
            },
            "type": "table"
           }
          ]
         },
         "layout": {
          "annotationdefaults": {
           "arrowcolor": "#2a3f5f",
           "arrowhead": 0,
           "arrowwidth": 1
          },
          "autotypenumbers": "strict",
          "coloraxis": {
           "colorbar": {
            "outlinewidth": 0,
            "ticks": ""
           }
          },
          "colorscale": {
           "diverging": [
            [
             0,
             "#8e0152"
            ],
            [
             0.1,
             "#c51b7d"
            ],
            [
             0.2,
             "#de77ae"
            ],
            [
             0.3,
             "#f1b6da"
            ],
            [
             0.4,
             "#fde0ef"
            ],
            [
             0.5,
             "#f7f7f7"
            ],
            [
             0.6,
             "#e6f5d0"
            ],
            [
             0.7,
             "#b8e186"
            ],
            [
             0.8,
             "#7fbc41"
            ],
            [
             0.9,
             "#4d9221"
            ],
            [
             1,
             "#276419"
            ]
           ],
           "sequential": [
            [
             0,
             "#0d0887"
            ],
            [
             0.1111111111111111,
             "#46039f"
            ],
            [
             0.2222222222222222,
             "#7201a8"
            ],
            [
             0.3333333333333333,
             "#9c179e"
            ],
            [
             0.4444444444444444,
             "#bd3786"
            ],
            [
             0.5555555555555556,
             "#d8576b"
            ],
            [
             0.6666666666666666,
             "#ed7953"
            ],
            [
             0.7777777777777778,
             "#fb9f3a"
            ],
            [
             0.8888888888888888,
             "#fdca26"
            ],
            [
             1,
             "#f0f921"
            ]
           ],
           "sequentialminus": [
            [
             0,
             "#0d0887"
            ],
            [
             0.1111111111111111,
             "#46039f"
            ],
            [
             0.2222222222222222,
             "#7201a8"
            ],
            [
             0.3333333333333333,
             "#9c179e"
            ],
            [
             0.4444444444444444,
             "#bd3786"
            ],
            [
             0.5555555555555556,
             "#d8576b"
            ],
            [
             0.6666666666666666,
             "#ed7953"
            ],
            [
             0.7777777777777778,
             "#fb9f3a"
            ],
            [
             0.8888888888888888,
             "#fdca26"
            ],
            [
             1,
             "#f0f921"
            ]
           ]
          },
          "colorway": [
           "#636efa",
           "#EF553B",
           "#00cc96",
           "#ab63fa",
           "#FFA15A",
           "#19d3f3",
           "#FF6692",
           "#B6E880",
           "#FF97FF",
           "#FECB52"
          ],
          "font": {
           "color": "#2a3f5f"
          },
          "geo": {
           "bgcolor": "white",
           "lakecolor": "white",
           "landcolor": "#E5ECF6",
           "showlakes": true,
           "showland": true,
           "subunitcolor": "white"
          },
          "hoverlabel": {
           "align": "left"
          },
          "hovermode": "closest",
          "mapbox": {
           "style": "light"
          },
          "paper_bgcolor": "white",
          "plot_bgcolor": "#E5ECF6",
          "polar": {
           "angularaxis": {
            "gridcolor": "white",
            "linecolor": "white",
            "ticks": ""
           },
           "bgcolor": "#E5ECF6",
           "radialaxis": {
            "gridcolor": "white",
            "linecolor": "white",
            "ticks": ""
           }
          },
          "scene": {
           "xaxis": {
            "backgroundcolor": "#E5ECF6",
            "gridcolor": "white",
            "gridwidth": 2,
            "linecolor": "white",
            "showbackground": true,
            "ticks": "",
            "zerolinecolor": "white"
           },
           "yaxis": {
            "backgroundcolor": "#E5ECF6",
            "gridcolor": "white",
            "gridwidth": 2,
            "linecolor": "white",
            "showbackground": true,
            "ticks": "",
            "zerolinecolor": "white"
           },
           "zaxis": {
            "backgroundcolor": "#E5ECF6",
            "gridcolor": "white",
            "gridwidth": 2,
            "linecolor": "white",
            "showbackground": true,
            "ticks": "",
            "zerolinecolor": "white"
           }
          },
          "shapedefaults": {
           "line": {
            "color": "#2a3f5f"
           }
          },
          "ternary": {
           "aaxis": {
            "gridcolor": "white",
            "linecolor": "white",
            "ticks": ""
           },
           "baxis": {
            "gridcolor": "white",
            "linecolor": "white",
            "ticks": ""
           },
           "bgcolor": "#E5ECF6",
           "caxis": {
            "gridcolor": "white",
            "linecolor": "white",
            "ticks": ""
           }
          },
          "title": {
           "x": 0.05
          },
          "xaxis": {
           "automargin": true,
           "gridcolor": "white",
           "linecolor": "white",
           "ticks": "",
           "title": {
            "standoff": 15
           },
           "zerolinecolor": "white",
           "zerolinewidth": 2
          },
          "yaxis": {
           "automargin": true,
           "gridcolor": "white",
           "linecolor": "white",
           "ticks": "",
           "title": {
            "standoff": 15
           },
           "zerolinecolor": "white",
           "zerolinewidth": 2
          }
         }
        }
       }
      },
      "text/html": [
       "<div>                            <div id=\"ee3ed9a0-5267-47d4-970d-a2702b2d6378\" class=\"plotly-graph-div\" style=\"height:525px; width:100%;\"></div>            <script type=\"text/javascript\">                require([\"plotly\"], function(Plotly) {                    window.PLOTLYENV=window.PLOTLYENV || {};                                    if (document.getElementById(\"ee3ed9a0-5267-47d4-970d-a2702b2d6378\")) {                    Plotly.newPlot(                        \"ee3ed9a0-5267-47d4-970d-a2702b2d6378\",                        [{\"close\":[150.770004,151.759995,149.839996,142.479996,138.199997,142.449997,146.100006,146.399994,145.429993,140.089996,140.419998,138.979996,138.339996,142.990005,138.380005,142.410004,143.75,143.860001,143.389999,147.270004,149.449997,152.339996,149.350006,144.800003,155.740005,153.339996,150.649994,145.029999,138.880005,138.380005,138.919998,139.5,134.869995,146.869995,149.699997,148.279999,150.039993,148.789993,150.720001,151.289993,148.009995,150.179993,151.070007,148.110001,144.220001,141.169998,148.029999,148.309998,147.809998,146.630005,142.910004,140.940002,142.649994,142.160004,144.490005,145.470001,143.210007,136.5,134.509995,132.369995,132.300003,135.449997,132.229996,131.860001,130.029999,126.040001,129.610001,129.929993,125.07,126.360001,125.019997,129.619995,130.149994,130.729996,133.490005],\"high\":[153.770004,154.720001,150.639999,146.720001,143.100006,143.070007,146.220001,147.380005,147.539993,143.100006,141.889999,141.350006,140.360001,143.589996,144.520004,142.899994,146.699997,144.949997,145.889999,147.850006,150.229996,152.490005,151.990005,149.050003,157.5,154.240005,155.449997,152.169998,142.800003,142.669998,139.149994,141.429993,138.550003,146.869995,150.009995,150.279999,153.589996,149.869995,151.479996,152.699997,150.369995,150.419998,151.830002,148.880005,146.639999,144.809998,148.720001,149.130005,148.0,150.919998,147.300003,143.369995,143.520004,145.570007,144.5,149.970001,146.660004,141.800003,137.649994,135.199997,133.25,136.809998,134.559998,132.419998,131.410004,131.029999,130.479996,129.949997,130.899994,128.660004,127.769997,130.289993,133.410004,131.259995,133.509995],\"low\":[149.639999,149.949997,144.839996,140.679993,138.0,137.690002,144.259995,143.009995,145.220001,139.449997,138.570007,138.220001,138.160004,134.369995,138.190002,140.270004,140.610001,141.5,142.649994,142.649994,146.0,149.360001,148.039993,144.130005,147.820007,151.919998,149.130005,145.0,138.75,134.380005,135.669998,137.490005,134.589996,139.5,144.369995,147.429993,148.559998,147.289993,146.149994,149.970001,147.720001,146.929993,149.339996,147.119995,143.380005,140.350006,140.550003,146.610001,145.649994,145.770004,141.919998,140.0,141.100006,140.899994,141.059998,144.240005,141.160004,136.029999,133.729996,131.320007,129.889999,132.75,130.300003,129.639999,128.720001,125.870003,127.730003,127.43,124.169998,125.080002,124.760002,124.889999,129.889999,128.119995,130.460007],\"open\":[149.660004,152.740005,147.639999,146.100006,141.279999,138.210007,145.029999,144.070007,145.809998,142.539993,140.419998,139.899994,139.130005,134.990005,144.309998,141.070007,145.490005,141.690002,143.020004,142.869995,147.190002,150.089996,150.960007,148.070007,148.199997,153.160004,155.080002,148.949997,142.059998,142.089996,137.110001,140.410004,138.5,141.240005,145.820007,148.970001,152.220001,149.130005,146.429993,152.309998,150.160004,148.130005,149.449997,148.309998,145.139999,144.289993,141.399994,148.210007,145.960007,147.770004,147.070007,142.190002,142.360001,142.339996,142.699997,149.5,145.350006,141.110001,136.690002,135.110001,131.389999,132.979996,134.350006,130.919998,131.380005,129.669998,127.989998,128.410004,130.279999,126.889999,127.129997,126.010002,130.470001,130.259995,131.25],\"x\":[2700,2701,2702,2703,2704,2705,2706,2707,2708,2709,2710,2711,2712,2713,2714,2715,2716,2717,2718,2719,2720,2721,2722,2723,2724,2725,2726,2727,2728,2729,2730,2731,2732,2733,2734,2735,2736,2737,2738,2739,2740,2741,2742,2743,2744,2745,2746,2747,2748,2749,2750,2751,2752,2753,2754,2755,2756,2757,2758,2759,2760,2761,2762,2763,2764,2765,2766,2767,2768,2769,2770,2771,2772,2773,2774],\"type\":\"candlestick\"}],                        {\"template\":{\"data\":{\"bar\":[{\"error_x\":{\"color\":\"#2a3f5f\"},\"error_y\":{\"color\":\"#2a3f5f\"},\"marker\":{\"line\":{\"color\":\"#E5ECF6\",\"width\":0.5},\"pattern\":{\"fillmode\":\"overlay\",\"size\":10,\"solidity\":0.2}},\"type\":\"bar\"}],\"barpolar\":[{\"marker\":{\"line\":{\"color\":\"#E5ECF6\",\"width\":0.5},\"pattern\":{\"fillmode\":\"overlay\",\"size\":10,\"solidity\":0.2}},\"type\":\"barpolar\"}],\"carpet\":[{\"aaxis\":{\"endlinecolor\":\"#2a3f5f\",\"gridcolor\":\"white\",\"linecolor\":\"white\",\"minorgridcolor\":\"white\",\"startlinecolor\":\"#2a3f5f\"},\"baxis\":{\"endlinecolor\":\"#2a3f5f\",\"gridcolor\":\"white\",\"linecolor\":\"white\",\"minorgridcolor\":\"white\",\"startlinecolor\":\"#2a3f5f\"},\"type\":\"carpet\"}],\"choropleth\":[{\"colorbar\":{\"outlinewidth\":0,\"ticks\":\"\"},\"type\":\"choropleth\"}],\"contour\":[{\"colorbar\":{\"outlinewidth\":0,\"ticks\":\"\"},\"colorscale\":[[0.0,\"#0d0887\"],[0.1111111111111111,\"#46039f\"],[0.2222222222222222,\"#7201a8\"],[0.3333333333333333,\"#9c179e\"],[0.4444444444444444,\"#bd3786\"],[0.5555555555555556,\"#d8576b\"],[0.6666666666666666,\"#ed7953\"],[0.7777777777777778,\"#fb9f3a\"],[0.8888888888888888,\"#fdca26\"],[1.0,\"#f0f921\"]],\"type\":\"contour\"}],\"contourcarpet\":[{\"colorbar\":{\"outlinewidth\":0,\"ticks\":\"\"},\"type\":\"contourcarpet\"}],\"heatmap\":[{\"colorbar\":{\"outlinewidth\":0,\"ticks\":\"\"},\"colorscale\":[[0.0,\"#0d0887\"],[0.1111111111111111,\"#46039f\"],[0.2222222222222222,\"#7201a8\"],[0.3333333333333333,\"#9c179e\"],[0.4444444444444444,\"#bd3786\"],[0.5555555555555556,\"#d8576b\"],[0.6666666666666666,\"#ed7953\"],[0.7777777777777778,\"#fb9f3a\"],[0.8888888888888888,\"#fdca26\"],[1.0,\"#f0f921\"]],\"type\":\"heatmap\"}],\"heatmapgl\":[{\"colorbar\":{\"outlinewidth\":0,\"ticks\":\"\"},\"colorscale\":[[0.0,\"#0d0887\"],[0.1111111111111111,\"#46039f\"],[0.2222222222222222,\"#7201a8\"],[0.3333333333333333,\"#9c179e\"],[0.4444444444444444,\"#bd3786\"],[0.5555555555555556,\"#d8576b\"],[0.6666666666666666,\"#ed7953\"],[0.7777777777777778,\"#fb9f3a\"],[0.8888888888888888,\"#fdca26\"],[1.0,\"#f0f921\"]],\"type\":\"heatmapgl\"}],\"histogram\":[{\"marker\":{\"pattern\":{\"fillmode\":\"overlay\",\"size\":10,\"solidity\":0.2}},\"type\":\"histogram\"}],\"histogram2d\":[{\"colorbar\":{\"outlinewidth\":0,\"ticks\":\"\"},\"colorscale\":[[0.0,\"#0d0887\"],[0.1111111111111111,\"#46039f\"],[0.2222222222222222,\"#7201a8\"],[0.3333333333333333,\"#9c179e\"],[0.4444444444444444,\"#bd3786\"],[0.5555555555555556,\"#d8576b\"],[0.6666666666666666,\"#ed7953\"],[0.7777777777777778,\"#fb9f3a\"],[0.8888888888888888,\"#fdca26\"],[1.0,\"#f0f921\"]],\"type\":\"histogram2d\"}],\"histogram2dcontour\":[{\"colorbar\":{\"outlinewidth\":0,\"ticks\":\"\"},\"colorscale\":[[0.0,\"#0d0887\"],[0.1111111111111111,\"#46039f\"],[0.2222222222222222,\"#7201a8\"],[0.3333333333333333,\"#9c179e\"],[0.4444444444444444,\"#bd3786\"],[0.5555555555555556,\"#d8576b\"],[0.6666666666666666,\"#ed7953\"],[0.7777777777777778,\"#fb9f3a\"],[0.8888888888888888,\"#fdca26\"],[1.0,\"#f0f921\"]],\"type\":\"histogram2dcontour\"}],\"mesh3d\":[{\"colorbar\":{\"outlinewidth\":0,\"ticks\":\"\"},\"type\":\"mesh3d\"}],\"parcoords\":[{\"line\":{\"colorbar\":{\"outlinewidth\":0,\"ticks\":\"\"}},\"type\":\"parcoords\"}],\"pie\":[{\"automargin\":true,\"type\":\"pie\"}],\"scatter\":[{\"marker\":{\"colorbar\":{\"outlinewidth\":0,\"ticks\":\"\"}},\"type\":\"scatter\"}],\"scatter3d\":[{\"line\":{\"colorbar\":{\"outlinewidth\":0,\"ticks\":\"\"}},\"marker\":{\"colorbar\":{\"outlinewidth\":0,\"ticks\":\"\"}},\"type\":\"scatter3d\"}],\"scattercarpet\":[{\"marker\":{\"colorbar\":{\"outlinewidth\":0,\"ticks\":\"\"}},\"type\":\"scattercarpet\"}],\"scattergeo\":[{\"marker\":{\"colorbar\":{\"outlinewidth\":0,\"ticks\":\"\"}},\"type\":\"scattergeo\"}],\"scattergl\":[{\"marker\":{\"colorbar\":{\"outlinewidth\":0,\"ticks\":\"\"}},\"type\":\"scattergl\"}],\"scattermapbox\":[{\"marker\":{\"colorbar\":{\"outlinewidth\":0,\"ticks\":\"\"}},\"type\":\"scattermapbox\"}],\"scatterpolar\":[{\"marker\":{\"colorbar\":{\"outlinewidth\":0,\"ticks\":\"\"}},\"type\":\"scatterpolar\"}],\"scatterpolargl\":[{\"marker\":{\"colorbar\":{\"outlinewidth\":0,\"ticks\":\"\"}},\"type\":\"scatterpolargl\"}],\"scatterternary\":[{\"marker\":{\"colorbar\":{\"outlinewidth\":0,\"ticks\":\"\"}},\"type\":\"scatterternary\"}],\"surface\":[{\"colorbar\":{\"outlinewidth\":0,\"ticks\":\"\"},\"colorscale\":[[0.0,\"#0d0887\"],[0.1111111111111111,\"#46039f\"],[0.2222222222222222,\"#7201a8\"],[0.3333333333333333,\"#9c179e\"],[0.4444444444444444,\"#bd3786\"],[0.5555555555555556,\"#d8576b\"],[0.6666666666666666,\"#ed7953\"],[0.7777777777777778,\"#fb9f3a\"],[0.8888888888888888,\"#fdca26\"],[1.0,\"#f0f921\"]],\"type\":\"surface\"}],\"table\":[{\"cells\":{\"fill\":{\"color\":\"#EBF0F8\"},\"line\":{\"color\":\"white\"}},\"header\":{\"fill\":{\"color\":\"#C8D4E3\"},\"line\":{\"color\":\"white\"}},\"type\":\"table\"}]},\"layout\":{\"annotationdefaults\":{\"arrowcolor\":\"#2a3f5f\",\"arrowhead\":0,\"arrowwidth\":1},\"autotypenumbers\":\"strict\",\"coloraxis\":{\"colorbar\":{\"outlinewidth\":0,\"ticks\":\"\"}},\"colorscale\":{\"diverging\":[[0,\"#8e0152\"],[0.1,\"#c51b7d\"],[0.2,\"#de77ae\"],[0.3,\"#f1b6da\"],[0.4,\"#fde0ef\"],[0.5,\"#f7f7f7\"],[0.6,\"#e6f5d0\"],[0.7,\"#b8e186\"],[0.8,\"#7fbc41\"],[0.9,\"#4d9221\"],[1,\"#276419\"]],\"sequential\":[[0.0,\"#0d0887\"],[0.1111111111111111,\"#46039f\"],[0.2222222222222222,\"#7201a8\"],[0.3333333333333333,\"#9c179e\"],[0.4444444444444444,\"#bd3786\"],[0.5555555555555556,\"#d8576b\"],[0.6666666666666666,\"#ed7953\"],[0.7777777777777778,\"#fb9f3a\"],[0.8888888888888888,\"#fdca26\"],[1.0,\"#f0f921\"]],\"sequentialminus\":[[0.0,\"#0d0887\"],[0.1111111111111111,\"#46039f\"],[0.2222222222222222,\"#7201a8\"],[0.3333333333333333,\"#9c179e\"],[0.4444444444444444,\"#bd3786\"],[0.5555555555555556,\"#d8576b\"],[0.6666666666666666,\"#ed7953\"],[0.7777777777777778,\"#fb9f3a\"],[0.8888888888888888,\"#fdca26\"],[1.0,\"#f0f921\"]]},\"colorway\":[\"#636efa\",\"#EF553B\",\"#00cc96\",\"#ab63fa\",\"#FFA15A\",\"#19d3f3\",\"#FF6692\",\"#B6E880\",\"#FF97FF\",\"#FECB52\"],\"font\":{\"color\":\"#2a3f5f\"},\"geo\":{\"bgcolor\":\"white\",\"lakecolor\":\"white\",\"landcolor\":\"#E5ECF6\",\"showlakes\":true,\"showland\":true,\"subunitcolor\":\"white\"},\"hoverlabel\":{\"align\":\"left\"},\"hovermode\":\"closest\",\"mapbox\":{\"style\":\"light\"},\"paper_bgcolor\":\"white\",\"plot_bgcolor\":\"#E5ECF6\",\"polar\":{\"angularaxis\":{\"gridcolor\":\"white\",\"linecolor\":\"white\",\"ticks\":\"\"},\"bgcolor\":\"#E5ECF6\",\"radialaxis\":{\"gridcolor\":\"white\",\"linecolor\":\"white\",\"ticks\":\"\"}},\"scene\":{\"xaxis\":{\"backgroundcolor\":\"#E5ECF6\",\"gridcolor\":\"white\",\"gridwidth\":2,\"linecolor\":\"white\",\"showbackground\":true,\"ticks\":\"\",\"zerolinecolor\":\"white\"},\"yaxis\":{\"backgroundcolor\":\"#E5ECF6\",\"gridcolor\":\"white\",\"gridwidth\":2,\"linecolor\":\"white\",\"showbackground\":true,\"ticks\":\"\",\"zerolinecolor\":\"white\"},\"zaxis\":{\"backgroundcolor\":\"#E5ECF6\",\"gridcolor\":\"white\",\"gridwidth\":2,\"linecolor\":\"white\",\"showbackground\":true,\"ticks\":\"\",\"zerolinecolor\":\"white\"}},\"shapedefaults\":{\"line\":{\"color\":\"#2a3f5f\"}},\"ternary\":{\"aaxis\":{\"gridcolor\":\"white\",\"linecolor\":\"white\",\"ticks\":\"\"},\"baxis\":{\"gridcolor\":\"white\",\"linecolor\":\"white\",\"ticks\":\"\"},\"bgcolor\":\"#E5ECF6\",\"caxis\":{\"gridcolor\":\"white\",\"linecolor\":\"white\",\"ticks\":\"\"}},\"title\":{\"x\":0.05},\"xaxis\":{\"automargin\":true,\"gridcolor\":\"white\",\"linecolor\":\"white\",\"ticks\":\"\",\"title\":{\"standoff\":15},\"zerolinecolor\":\"white\",\"zerolinewidth\":2},\"yaxis\":{\"automargin\":true,\"gridcolor\":\"white\",\"linecolor\":\"white\",\"ticks\":\"\",\"title\":{\"standoff\":15},\"zerolinecolor\":\"white\",\"zerolinewidth\":2}}}},                        {\"responsive\": true}                    ).then(function(){\n",
       "                            \n",
       "var gd = document.getElementById('ee3ed9a0-5267-47d4-970d-a2702b2d6378');\n",
       "var x = new MutationObserver(function (mutations, observer) {{\n",
       "        var display = window.getComputedStyle(gd).display;\n",
       "        if (!display || display === 'none') {{\n",
       "            console.log([gd, 'removed!']);\n",
       "            Plotly.purge(gd);\n",
       "            observer.disconnect();\n",
       "        }}\n",
       "}});\n",
       "\n",
       "// Listen for the removal of the full notebook cells\n",
       "var notebookContainer = gd.closest('#notebook-container');\n",
       "if (notebookContainer) {{\n",
       "    x.observe(notebookContainer, {childList: true});\n",
       "}}\n",
       "\n",
       "// Listen for the clearing of the current output cell\n",
       "var outputEl = gd.closest('.output');\n",
       "if (outputEl) {{\n",
       "    x.observe(outputEl, {childList: true});\n",
       "}}\n",
       "\n",
       "                        })                };                });            </script>        </div>"
      ]
     },
     "metadata": {},
     "output_type": "display_data"
    }
   ],
   "source": [
    "dfpl = df[2700:2775]\n",
    "import plotly.graph_objects as go\n",
    "from datetime import datetime\n",
    "\n",
    "fig = go.Figure(data=[go.Candlestick(x=dfpl.index,\n",
    "                open=dfpl['Open'],\n",
    "                high=dfpl['High'],\n",
    "                low=dfpl['Low'],\n",
    "                close=dfpl['Close'])])\n",
    "\n",
    "fig.show()"
   ]
  }
 ],
 "metadata": {
  "kernelspec": {
   "display_name": "Python 3 (ipykernel)",
   "language": "python",
   "name": "python3"
  },
  "language_info": {
   "codemirror_mode": {
    "name": "ipython",
    "version": 3
   },
   "file_extension": ".py",
   "mimetype": "text/x-python",
   "name": "python",
   "nbconvert_exporter": "python",
   "pygments_lexer": "ipython3",
   "version": "3.9.12"
  }
 },
 "nbformat": 4,
 "nbformat_minor": 2
}
